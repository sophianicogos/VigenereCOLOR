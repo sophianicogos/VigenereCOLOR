{
  "nbformat": 4,
  "nbformat_minor": 0,
  "metadata": {
    "colab": {
      "provenance": [],
      "authorship_tag": "ABX9TyPtvpgw73I/RkQgsuztCvsg",
      "include_colab_link": true
    },
    "kernelspec": {
      "name": "python3",
      "display_name": "Python 3"
    },
    "language_info": {
      "name": "python"
    }
  },
  "cells": [
    {
      "cell_type": "markdown",
      "metadata": {
        "id": "view-in-github",
        "colab_type": "text"
      },
      "source": [
        "<a href=\"https://colab.research.google.com/github/sophianicogos/VigenereCOLOR/blob/main/toolboxHCP_retinotopy_averageSUB.ipynb\" target=\"_parent\"><img src=\"https://colab.research.google.com/assets/colab-badge.svg\" alt=\"Open In Colab\"/></a>"
      ]
    },
    {
      "cell_type": "code",
      "execution_count": null,
      "metadata": {
        "colab": {
          "base_uri": "https://localhost:8080/"
        },
        "id": "aICcnBrlrk8J",
        "outputId": "685e253d-caa3-4ad6-aa4f-35b49cbfc3ac"
      },
      "outputs": [
        {
          "output_type": "stream",
          "name": "stdout",
          "text": [
            "Cloning into 'CNI_toolbox'...\n",
            "remote: Enumerating objects: 1411, done.\u001b[K\n",
            "remote: Counting objects: 100% (293/293), done.\u001b[K\n",
            "remote: Compressing objects: 100% (148/148), done.\u001b[K\n",
            "remote: Total 1411 (delta 150), reused 267 (delta 141), pack-reused 1118\u001b[K\n",
            "Receiving objects: 100% (1411/1411), 943.45 KiB | 10.25 MiB/s, done.\n",
            "Resolving deltas: 100% (710/710), done.\n"
          ]
        }
      ],
      "source": [
        "!git clone https://github.com/ccnmaastricht/CNI_toolbox.git\n"
      ]
    },
    {
      "cell_type": "markdown",
      "source": [
        "### ♦ PACKAGE SETUP ♦"
      ],
      "metadata": {
        "id": "3U7C5_BU2qAD"
      }
    },
    {
      "cell_type": "code",
      "source": [
        "import nibabel as nib\n",
        "import numpy as np"
      ],
      "metadata": {
        "id": "bjlzB9pdz9d7"
      },
      "execution_count": 2,
      "outputs": []
    },
    {
      "cell_type": "code",
      "source": [
        "import zipfile\n",
        "import os\n",
        "\n",
        "# Path to the uploaded ZIP file\n",
        "zip_file_path = '/cni_tlbx.zip'  # Adjust the path if necessary\n",
        "\n",
        "# Destination directory for extraction\n",
        "extraction_path = '/'\n",
        "\n",
        "# Unzip the file\n",
        "with zipfile.ZipFile(zip_file_path, 'r') as zip_ref:\n",
        "    zip_ref.extractall(extraction_path)\n",
        "\n",
        "# List the contents of the extraction directory\n",
        "os.listdir(extraction_path)\n",
        "\n",
        "\n",
        "import os\n",
        "os.chdir('/')\n",
        "!pwd\n",
        "from cni_tlbx import IRM\n"
      ],
      "metadata": {
        "colab": {
          "base_uri": "https://localhost:8080/"
        },
        "id": "QProITkd63OY",
        "outputId": "f6120a39-8ebc-4980-f5bc-7812268205dd"
      },
      "execution_count": 51,
      "outputs": [
        {
          "output_type": "stream",
          "name": "stdout",
          "text": [
            "/\n"
          ]
        }
      ]
    },
    {
      "cell_type": "markdown",
      "source": [
        "### DATA HANDLING"
      ],
      "metadata": {
        "id": "_VO6HD63_hAb"
      }
    },
    {
      "cell_type": "code",
      "source": [
        "NIFTI = nib.load('/content/GlasserParcellation_niftiConvert.nii')\n",
        "header = NIFTI.header\n",
        "affine = NIFTI.affine\n",
        "data = np.array(NIFTI.dataobj)\n",
        "data = np.transpose(data, (3, 0, 1, 2))"
      ],
      "metadata": {
        "id": "23VPh0TD2vu5"
      },
      "execution_count": 4,
      "outputs": []
    },
    {
      "cell_type": "markdown",
      "source": [
        "### pRF MAPPING"
      ],
      "metadata": {
        "id": "noQubH-B_Y6o"
      }
    },
    {
      "cell_type": "markdown",
      "source": [
        "instantiation?"
      ],
      "metadata": {
        "id": "me8YJfgd_2eG"
      }
    },
    {
      "cell_type": "markdown",
      "source": [
        "Input referred models?"
      ],
      "metadata": {
        "id": "LGfAayjFD6C1"
      }
    },
    {
      "cell_type": "markdown",
      "source": [],
      "metadata": {
        "id": "KkEhMiw_OTLG"
      }
    },
    {
      "cell_type": "code",
      "source": [
        "from IRM import IRM\n",
        "data = data  # Assuming you have your functional MRI data tensor\n",
        "sampling_frequency = 1  # Sampling frequency of data acquisition\n",
        "\n",
        "# Extracting dimensions of the data tensor\n",
        "n_samples, n_rows, n_cols, n_slices = data.shape\n",
        "\n",
        "# Creating a dictionary of parameters\n",
        "parameters = {\n",
        "    'f_sampling': sampling_frequency,\n",
        "    'n_samples': n_samples,\n",
        "    'n_rows': n_rows,\n",
        "    'n_cols': n_cols,\n",
        "    'n_slices': n_slices\n",
        "}\n",
        "\n",
        "# Instantiating the IRM tool with the parameters\n",
        "irm = IRM(parameters)\n"
      ],
      "metadata": {
        "id": "rm2aqLG8_sw9"
      },
      "execution_count": 59,
      "outputs": []
    },
    {
      "cell_type": "markdown",
      "source": [
        "usage.."
      ],
      "metadata": {
        "id": "4vwQ1Mr9XAgh"
      }
    },
    {
      "cell_type": "code",
      "source": [
        "import os\n",
        "\n",
        "# Set the current directory to be 'cni_tlbx'\n",
        "os.chdir('cni_tlbx')"
      ],
      "metadata": {
        "id": "VwccenSdZMX-"
      },
      "execution_count": 55,
      "outputs": []
    },
    {
      "cell_type": "code",
      "source": [
        "stimulus_file_path = \"/7T_RETEXP.npy\"\n",
        "irm.set_stimulus(stimulus_file_path)"
      ],
      "metadata": {
        "id": "snslBIqsXCGy"
      },
      "execution_count": 57,
      "outputs": []
    },
    {
      "cell_type": "code",
      "source": [
        "irm.create_timecourse(f,xdata)"
      ],
      "metadata": {
        "colab": {
          "base_uri": "https://localhost:8080/",
          "height": 139
        },
        "id": "qQlqfAJgZw47",
        "outputId": "61a822a0-7cbb-426b-c7fe-e602a1649f5a"
      },
      "execution_count": 58,
      "outputs": [
        {
          "output_type": "error",
          "ename": "AttributeError",
          "evalue": "'IRM' object has no attribute 'create_timecourse'",
          "traceback": [
            "\u001b[0;31m---------------------------------------------------------------------------\u001b[0m",
            "\u001b[0;31mAttributeError\u001b[0m                            Traceback (most recent call last)",
            "\u001b[0;32m<ipython-input-58-14a6ad8ed488>\u001b[0m in \u001b[0;36m<cell line: 1>\u001b[0;34m()\u001b[0m\n\u001b[0;32m----> 1\u001b[0;31m \u001b[0mirm\u001b[0m\u001b[0;34m.\u001b[0m\u001b[0mcreate_timecourse\u001b[0m\u001b[0;34m(\u001b[0m\u001b[0mf\u001b[0m\u001b[0;34m,\u001b[0m\u001b[0mxdata\u001b[0m\u001b[0;34m)\u001b[0m\u001b[0;34m\u001b[0m\u001b[0;34m\u001b[0m\u001b[0m\n\u001b[0m",
            "\u001b[0;31mAttributeError\u001b[0m: 'IRM' object has no attribute 'create_timecourse'"
          ]
        }
      ]
    },
    {
      "cell_type": "code",
      "source": [
        "results = irm.mapping(data)"
      ],
      "metadata": {
        "id": "l0jFc27pZ0Gc"
      },
      "execution_count": null,
      "outputs": []
    },
    {
      "cell_type": "markdown",
      "source": [
        "pRF Mapping maybe just do it?"
      ],
      "metadata": {
        "id": "ASsylomJbdgt"
      }
    },
    {
      "cell_type": "code",
      "source": [
        "import os\n",
        "import numpy as np\n",
        "from PIL import Image\n",
        "import io\n",
        "\n",
        "from google.colab import files\n",
        "\n",
        "print(\"Please upload image files (PNG format):\")\n",
        "uploaded_files = files.upload()\n",
        "\n",
        "processed_images = []\n",
        "for image_name, image_data in uploaded_files.items():\n",
        "    # Read the image from the uploaded file object\n",
        "    image = Image.open(io.BytesIO(image_data))\n",
        "\n",
        "    h_stimulus, w_stimulus = image.size\n",
        "    # greyscale\n",
        "    image = image.convert('L')\n",
        "    # Convert the image to a NumPy array and append it to the list\n",
        "    processed_images.append(np.array(image))\n",
        "\n",
        "# Stack the processed images along a new dimension to create a 3D tensor\n",
        "stimulus_tensor = np.stack(processed_images, axis=0)\n",
        "\n"
      ],
      "metadata": {
        "colab": {
          "base_uri": "https://localhost:8080/",
          "height": 86
        },
        "id": "OPI8bDlbej6g",
        "outputId": "8c2fe98d-83e6-4c44-f9bf-32ca569e15d8"
      },
      "execution_count": 98,
      "outputs": [
        {
          "output_type": "stream",
          "name": "stdout",
          "text": [
            "Please upload image files (PNG format):\n"
          ]
        },
        {
          "output_type": "display_data",
          "data": {
            "text/plain": [
              "<IPython.core.display.HTML object>"
            ],
            "text/html": [
              "\n",
              "     <input type=\"file\" id=\"files-0c43fd18-8ae5-4def-afb4-85e514aecb0b\" name=\"files[]\" multiple disabled\n",
              "        style=\"border:none\" />\n",
              "     <output id=\"result-0c43fd18-8ae5-4def-afb4-85e514aecb0b\">\n",
              "      Upload widget is only available when the cell has been executed in the\n",
              "      current browser session. Please rerun this cell to enable.\n",
              "      </output>\n",
              "      <script>// Copyright 2017 Google LLC\n",
              "//\n",
              "// Licensed under the Apache License, Version 2.0 (the \"License\");\n",
              "// you may not use this file except in compliance with the License.\n",
              "// You may obtain a copy of the License at\n",
              "//\n",
              "//      http://www.apache.org/licenses/LICENSE-2.0\n",
              "//\n",
              "// Unless required by applicable law or agreed to in writing, software\n",
              "// distributed under the License is distributed on an \"AS IS\" BASIS,\n",
              "// WITHOUT WARRANTIES OR CONDITIONS OF ANY KIND, either express or implied.\n",
              "// See the License for the specific language governing permissions and\n",
              "// limitations under the License.\n",
              "\n",
              "/**\n",
              " * @fileoverview Helpers for google.colab Python module.\n",
              " */\n",
              "(function(scope) {\n",
              "function span(text, styleAttributes = {}) {\n",
              "  const element = document.createElement('span');\n",
              "  element.textContent = text;\n",
              "  for (const key of Object.keys(styleAttributes)) {\n",
              "    element.style[key] = styleAttributes[key];\n",
              "  }\n",
              "  return element;\n",
              "}\n",
              "\n",
              "// Max number of bytes which will be uploaded at a time.\n",
              "const MAX_PAYLOAD_SIZE = 100 * 1024;\n",
              "\n",
              "function _uploadFiles(inputId, outputId) {\n",
              "  const steps = uploadFilesStep(inputId, outputId);\n",
              "  const outputElement = document.getElementById(outputId);\n",
              "  // Cache steps on the outputElement to make it available for the next call\n",
              "  // to uploadFilesContinue from Python.\n",
              "  outputElement.steps = steps;\n",
              "\n",
              "  return _uploadFilesContinue(outputId);\n",
              "}\n",
              "\n",
              "// This is roughly an async generator (not supported in the browser yet),\n",
              "// where there are multiple asynchronous steps and the Python side is going\n",
              "// to poll for completion of each step.\n",
              "// This uses a Promise to block the python side on completion of each step,\n",
              "// then passes the result of the previous step as the input to the next step.\n",
              "function _uploadFilesContinue(outputId) {\n",
              "  const outputElement = document.getElementById(outputId);\n",
              "  const steps = outputElement.steps;\n",
              "\n",
              "  const next = steps.next(outputElement.lastPromiseValue);\n",
              "  return Promise.resolve(next.value.promise).then((value) => {\n",
              "    // Cache the last promise value to make it available to the next\n",
              "    // step of the generator.\n",
              "    outputElement.lastPromiseValue = value;\n",
              "    return next.value.response;\n",
              "  });\n",
              "}\n",
              "\n",
              "/**\n",
              " * Generator function which is called between each async step of the upload\n",
              " * process.\n",
              " * @param {string} inputId Element ID of the input file picker element.\n",
              " * @param {string} outputId Element ID of the output display.\n",
              " * @return {!Iterable<!Object>} Iterable of next steps.\n",
              " */\n",
              "function* uploadFilesStep(inputId, outputId) {\n",
              "  const inputElement = document.getElementById(inputId);\n",
              "  inputElement.disabled = false;\n",
              "\n",
              "  const outputElement = document.getElementById(outputId);\n",
              "  outputElement.innerHTML = '';\n",
              "\n",
              "  const pickedPromise = new Promise((resolve) => {\n",
              "    inputElement.addEventListener('change', (e) => {\n",
              "      resolve(e.target.files);\n",
              "    });\n",
              "  });\n",
              "\n",
              "  const cancel = document.createElement('button');\n",
              "  inputElement.parentElement.appendChild(cancel);\n",
              "  cancel.textContent = 'Cancel upload';\n",
              "  const cancelPromise = new Promise((resolve) => {\n",
              "    cancel.onclick = () => {\n",
              "      resolve(null);\n",
              "    };\n",
              "  });\n",
              "\n",
              "  // Wait for the user to pick the files.\n",
              "  const files = yield {\n",
              "    promise: Promise.race([pickedPromise, cancelPromise]),\n",
              "    response: {\n",
              "      action: 'starting',\n",
              "    }\n",
              "  };\n",
              "\n",
              "  cancel.remove();\n",
              "\n",
              "  // Disable the input element since further picks are not allowed.\n",
              "  inputElement.disabled = true;\n",
              "\n",
              "  if (!files) {\n",
              "    return {\n",
              "      response: {\n",
              "        action: 'complete',\n",
              "      }\n",
              "    };\n",
              "  }\n",
              "\n",
              "  for (const file of files) {\n",
              "    const li = document.createElement('li');\n",
              "    li.append(span(file.name, {fontWeight: 'bold'}));\n",
              "    li.append(span(\n",
              "        `(${file.type || 'n/a'}) - ${file.size} bytes, ` +\n",
              "        `last modified: ${\n",
              "            file.lastModifiedDate ? file.lastModifiedDate.toLocaleDateString() :\n",
              "                                    'n/a'} - `));\n",
              "    const percent = span('0% done');\n",
              "    li.appendChild(percent);\n",
              "\n",
              "    outputElement.appendChild(li);\n",
              "\n",
              "    const fileDataPromise = new Promise((resolve) => {\n",
              "      const reader = new FileReader();\n",
              "      reader.onload = (e) => {\n",
              "        resolve(e.target.result);\n",
              "      };\n",
              "      reader.readAsArrayBuffer(file);\n",
              "    });\n",
              "    // Wait for the data to be ready.\n",
              "    let fileData = yield {\n",
              "      promise: fileDataPromise,\n",
              "      response: {\n",
              "        action: 'continue',\n",
              "      }\n",
              "    };\n",
              "\n",
              "    // Use a chunked sending to avoid message size limits. See b/62115660.\n",
              "    let position = 0;\n",
              "    do {\n",
              "      const length = Math.min(fileData.byteLength - position, MAX_PAYLOAD_SIZE);\n",
              "      const chunk = new Uint8Array(fileData, position, length);\n",
              "      position += length;\n",
              "\n",
              "      const base64 = btoa(String.fromCharCode.apply(null, chunk));\n",
              "      yield {\n",
              "        response: {\n",
              "          action: 'append',\n",
              "          file: file.name,\n",
              "          data: base64,\n",
              "        },\n",
              "      };\n",
              "\n",
              "      let percentDone = fileData.byteLength === 0 ?\n",
              "          100 :\n",
              "          Math.round((position / fileData.byteLength) * 100);\n",
              "      percent.textContent = `${percentDone}% done`;\n",
              "\n",
              "    } while (position < fileData.byteLength);\n",
              "  }\n",
              "\n",
              "  // All done.\n",
              "  yield {\n",
              "    response: {\n",
              "      action: 'complete',\n",
              "    }\n",
              "  };\n",
              "}\n",
              "\n",
              "scope.google = scope.google || {};\n",
              "scope.google.colab = scope.google.colab || {};\n",
              "scope.google.colab._files = {\n",
              "  _uploadFiles,\n",
              "  _uploadFilesContinue,\n",
              "};\n",
              "})(self);\n",
              "</script> "
            ]
          },
          "metadata": {}
        },
        {
          "output_type": "stream",
          "name": "stdout",
          "text": [
            "Saving 2nov.jpeg to 2nov (3).jpeg\n"
          ]
        }
      ]
    },
    {
      "cell_type": "code",
      "source": [
        "if data.ndim==4:\n",
        "    n_samples, n_rows, n_cols, n_slices = data.shape\n",
        "elif data.ndim==2:\n",
        "    n_samples, n_rows = data.shape\n",
        "    n_cols, n_slices = 1, 1\n",
        "\n",
        "parameters = {'f_sampling': sampling_frequency,\n",
        "        'h_stimulus': h_stimulus,\n",
        "        'w_stimulus': w_stimulus,\n",
        "        'n_samples': n_samples,\n",
        "        'n_rows': n_rows,\n",
        "        'n_cols': n_cols,\n",
        "        'n_slices': n_slices}\n",
        "\n",
        "from cni_tlbx import pRF\n",
        "\n",
        "# Instantiate the PRF tool\n",
        "prf = pRF(parameters)\n"
      ],
      "metadata": {
        "id": "ZZAwO9WIbeA-"
      },
      "execution_count": 99,
      "outputs": []
    },
    {
      "cell_type": "markdown",
      "source": [
        "Reshape stimulus_tensor to work"
      ],
      "metadata": {
        "id": "NrZs7z8ucOZK"
      }
    },
    {
      "cell_type": "code",
      "source": [
        "import numpy as np\n",
        "\n",
        "# Print the shape of stimulus_tensor\n",
        "print(\"Shape of stimulus_tensor:\", stimulus_tensor.shape)\n",
        "\n",
        "# Verify that the number of samples matches n_samples\n",
        "n_samples_expected = parameters['n_samples']\n",
        "n_samples_actual = stimulus_tensor.shape[-1]  # Get the number of samples from the last dimension\n",
        "print(\"Number of samples expected:\", n_samples_expected)\n",
        "print(\"Number of samples actual:\", n_samples_actual)\n",
        "\n",
        "# Reshape stimulus_tensor if needed\n",
        "if stimulus_tensor.ndim == 4:  # Ensure it has four dimensions\n",
        "    stimulus_tensor = np.squeeze(stimulus_tensor, axis=(2, 3))  # Remove extra dimensions for singleton dimensions\n",
        "\n",
        "# Reshape stimulus_tensor to match expected shape\n",
        "if stimulus_tensor.shape[0] != parameters['h_stimulus'] or stimulus_tensor.shape[1] != parameters['w_stimulus']:\n",
        "    stimulus_tensor = np.reshape(stimulus_tensor,\n",
        "                                 (parameters['h_stimulus'], parameters['w_stimulus'], n_samples_expected))\n",
        "    print(\"Reshaped stimulus_tensor to match expected.\")\n",
        "\n",
        "\n",
        "\n"
      ],
      "metadata": {
        "colab": {
          "base_uri": "https://localhost:8080/"
        },
        "id": "_RVRj9xOkygq",
        "outputId": "17069c35-c423-4908-8c56-199d3431217d"
      },
      "execution_count": 102,
      "outputs": [
        {
          "output_type": "stream",
          "name": "stdout",
          "text": [
            "Shape of stimulus_tensor: (347, 347, 1)\n",
            "Number of samples expected: 1\n",
            "Number of samples actual: 1\n"
          ]
        }
      ]
    },
    {
      "cell_type": "code",
      "source": [
        "prf.set_stimulus(stimulus_tensor)"
      ],
      "metadata": {
        "id": "Hf5-C-ISbdCQ"
      },
      "execution_count": 103,
      "outputs": []
    },
    {
      "cell_type": "markdown",
      "source": [
        "Create timecourse"
      ],
      "metadata": {
        "id": "IUWDvI0gmLrx"
      }
    },
    {
      "cell_type": "code",
      "source": [
        "prf.create_timecourses()\n",
        "# use_slope = true,             # flag to indicate whether to explore slopes (true) or sigmas directly (false)\n",
        "                      #  num_xy = number_xy,           # number of points in x and y dimension\n",
        "                      #  num_size = number_sizes,      # number of points in the size dimension (either slopes or sigmas)\n",
        "                      #  max_radius = max_radius,      # maximum radius of stimulated visual field\n",
        "                      #  min_slope = min_slope,        # lower bound of slope (only needed when use_slope = true)\n",
        "                      #  max_slope = max_slope,        # upper bound of slope (only needed when use_slope = true)\n",
        "                      #  min_sigma = min_sigma,        # lower bound of sigma (only needed when use_slope = false)\n",
        "                      #  max_sigma = max_sigma,        # upper bound of sigma (only needed when use_slope = False)\n",
        "                      #  css_exponent = alpha,         # exponent for compressive spatial summation\n",
        "                      #  sampling = 'log',             # location sampling type ('log' or 'linear')"
      ],
      "metadata": {
        "colab": {
          "base_uri": "https://localhost:8080/"
        },
        "id": "fJO1KQZXmUMd",
        "outputId": "08eb8d76-317b-49e1-c942-03a6c284bbbc"
      },
      "execution_count": 105,
      "outputs": [
        {
          "output_type": "stream",
          "name": "stdout",
          "text": [
            "\n",
            "creating timecourses\n",
            "[====================] 100%"
          ]
        }
      ]
    },
    {
      "cell_type": "markdown",
      "source": [
        "### Saving resuts (future)"
      ],
      "metadata": {
        "id": "nBMEMyVL_UVb"
      }
    },
    {
      "cell_type": "markdown",
      "source": [],
      "metadata": {
        "id": "NwaMr5LnD8Cb"
      }
    },
    {
      "cell_type": "code",
      "source": [
        "header[\"dim\"][0] = 3\n",
        "header[\"dim\"][4] = 1\n",
        "\n",
        "for key, value in results.items():\n",
        "    results_nii = nib.Nifti1Image(value, affine, header)\n",
        "    nib.save(results_nii, \"%s.nii.gz\" % key)\n"
      ],
      "metadata": {
        "id": "-i-HwH6__Tx0"
      },
      "execution_count": null,
      "outputs": []
    },
    {
      "cell_type": "markdown",
      "source": [
        "can i combine these?"
      ],
      "metadata": {
        "id": "i4a4r_iMyOy2"
      }
    }
  ]
}