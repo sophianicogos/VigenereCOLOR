{
  "nbformat": 4,
  "nbformat_minor": 0,
  "metadata": {
    "colab": {
      "provenance": [],
      "authorship_tag": "ABX9TyPdjd0KjSTeayX6zpcnF5FM",
      "include_colab_link": true
    },
    "kernelspec": {
      "name": "python3",
      "display_name": "Python 3"
    },
    "language_info": {
      "name": "python"
    }
  },
  "cells": [
    {
      "cell_type": "markdown",
      "metadata": {
        "id": "view-in-github",
        "colab_type": "text"
      },
      "source": [
        "<a href=\"https://colab.research.google.com/github/sophianicogos/VigenereCOLOR/blob/main/toolboxHCP_retinotopy_averageSUB.ipynb\" target=\"_parent\"><img src=\"https://colab.research.google.com/assets/colab-badge.svg\" alt=\"Open In Colab\"/></a>"
      ]
    },
    {
      "cell_type": "code",
      "execution_count": null,
      "metadata": {
        "colab": {
          "base_uri": "https://localhost:8080/"
        },
        "id": "aICcnBrlrk8J",
        "outputId": "685e253d-caa3-4ad6-aa4f-35b49cbfc3ac"
      },
      "outputs": [
        {
          "output_type": "stream",
          "name": "stdout",
          "text": [
            "Cloning into 'CNI_toolbox'...\n",
            "remote: Enumerating objects: 1411, done.\u001b[K\n",
            "remote: Counting objects: 100% (293/293), done.\u001b[K\n",
            "remote: Compressing objects: 100% (148/148), done.\u001b[K\n",
            "remote: Total 1411 (delta 150), reused 267 (delta 141), pack-reused 1118\u001b[K\n",
            "Receiving objects: 100% (1411/1411), 943.45 KiB | 10.25 MiB/s, done.\n",
            "Resolving deltas: 100% (710/710), done.\n"
          ]
        }
      ],
      "source": [
        "!git clone https://github.com/ccnmaastricht/CNI_toolbox.git\n"
      ]
    },
    {
      "cell_type": "markdown",
      "source": [
        "### ♦ PACKAGE SETUP ♦"
      ],
      "metadata": {
        "id": "3U7C5_BU2qAD"
      }
    },
    {
      "cell_type": "code",
      "source": [
        "import nibabel as nib\n",
        "import numpy as np"
      ],
      "metadata": {
        "id": "bjlzB9pdz9d7"
      },
      "execution_count": 2,
      "outputs": []
    },
    {
      "cell_type": "code",
      "source": [
        "import zipfile\n",
        "import os\n",
        "\n",
        "# Path to the uploaded ZIP file\n",
        "zip_file_path = '/cni_tlbx.zip'  # Adjust the path if necessary\n",
        "\n",
        "# Destination directory for extraction\n",
        "extraction_path = '/'\n",
        "\n",
        "# Unzip the file\n",
        "with zipfile.ZipFile(zip_file_path, 'r') as zip_ref:\n",
        "    zip_ref.extractall(extraction_path)\n",
        "\n",
        "# List the contents of the extraction directory\n",
        "os.listdir(extraction_path)\n",
        "\n",
        "\n",
        "import os\n",
        "os.chdir('/')\n",
        "!pwd\n",
        "from cni_tlbx import IRM\n"
      ],
      "metadata": {
        "colab": {
          "base_uri": "https://localhost:8080/"
        },
        "id": "QProITkd63OY",
        "outputId": "f6120a39-8ebc-4980-f5bc-7812268205dd"
      },
      "execution_count": 51,
      "outputs": [
        {
          "output_type": "stream",
          "name": "stdout",
          "text": [
            "/\n"
          ]
        }
      ]
    },
    {
      "cell_type": "markdown",
      "source": [
        "### DATA HANDLING"
      ],
      "metadata": {
        "id": "_VO6HD63_hAb"
      }
    },
    {
      "cell_type": "code",
      "source": [
        "NIFTI = nib.load('/content/GlasserParcellation_niftiConvert.nii')\n",
        "header = NIFTI.header\n",
        "affine = NIFTI.affine\n",
        "data = np.array(NIFTI.dataobj)\n",
        "data = np.transpose(data, (3, 0, 1, 2))"
      ],
      "metadata": {
        "id": "23VPh0TD2vu5"
      },
      "execution_count": 4,
      "outputs": []
    },
    {
      "cell_type": "markdown",
      "source": [
        "### pRF MAPPING"
      ],
      "metadata": {
        "id": "noQubH-B_Y6o"
      }
    },
    {
      "cell_type": "markdown",
      "source": [
        "instantiation?"
      ],
      "metadata": {
        "id": "me8YJfgd_2eG"
      }
    },
    {
      "cell_type": "markdown",
      "source": [
        "Input referred models?"
      ],
      "metadata": {
        "id": "LGfAayjFD6C1"
      }
    },
    {
      "cell_type": "markdown",
      "source": [],
      "metadata": {
        "id": "KkEhMiw_OTLG"
      }
    },
    {
      "cell_type": "code",
      "source": [
        "from IRM import IRM\n",
        "data = data  # Assuming you have your functional MRI data tensor\n",
        "sampling_frequency = 1  # Sampling frequency of data acquisition\n",
        "\n",
        "# Extracting dimensions of the data tensor\n",
        "n_samples, n_rows, n_cols, n_slices = data.shape\n",
        "\n",
        "# Creating a dictionary of parameters\n",
        "parameters = {\n",
        "    'f_sampling': sampling_frequency,\n",
        "    'n_samples': n_samples,\n",
        "    'n_rows': n_rows,\n",
        "    'n_cols': n_cols,\n",
        "    'n_slices': n_slices\n",
        "}\n",
        "\n",
        "# Instantiating the IRM tool with the parameters\n",
        "irm = IRM(parameters)\n"
      ],
      "metadata": {
        "id": "rm2aqLG8_sw9"
      },
      "execution_count": 52,
      "outputs": []
    },
    {
      "cell_type": "markdown",
      "source": [
        "usage.."
      ],
      "metadata": {
        "id": "4vwQ1Mr9XAgh"
      }
    },
    {
      "cell_type": "code",
      "source": [
        "stimulus_file_path = \"\"\n",
        "irm.set_stimulus(stimulus_file_path)\n",
        "\n",
        "irm.create_timecourse(f,xdata)\n",
        "results = irm.mapping(data)"
      ],
      "metadata": {
        "id": "snslBIqsXCGy"
      },
      "execution_count": null,
      "outputs": []
    },
    {
      "cell_type": "markdown",
      "source": [
        "### Saving resuts (future)"
      ],
      "metadata": {
        "id": "nBMEMyVL_UVb"
      }
    },
    {
      "cell_type": "markdown",
      "source": [],
      "metadata": {
        "id": "NwaMr5LnD8Cb"
      }
    },
    {
      "cell_type": "code",
      "source": [
        "header[\"dim\"][0] = 3\n",
        "header[\"dim\"][4] = 1\n",
        "\n",
        "for key, value in results.items():\n",
        "    results_nii = nib.Nifti1Image(value, affine, header)\n",
        "    nib.save(results_nii, \"%s.nii.gz\" % key)\n"
      ],
      "metadata": {
        "id": "-i-HwH6__Tx0"
      },
      "execution_count": null,
      "outputs": []
    },
    {
      "cell_type": "markdown",
      "source": [
        "can i combine these?"
      ],
      "metadata": {
        "id": "i4a4r_iMyOy2"
      }
    }
  ]
}